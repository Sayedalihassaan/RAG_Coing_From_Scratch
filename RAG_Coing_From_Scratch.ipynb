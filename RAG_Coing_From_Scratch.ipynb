{
  "cells": [
    {
      "cell_type": "code",
      "execution_count": null,
      "metadata": {
        "id": "xFMo1bcDXs0v"
      },
      "outputs": [],
      "source": [
        "corpus_of_documents = [\n",
        "    \"Take a leisurely walk in the park and enjoy the fresh air.\",\n",
        "    \"Visit a local museum and discover something new.\",\n",
        "    \"Attend a live music concert and feel the rhythm.\",\n",
        "    \"Go for a hike and admire the natural scenery.\",\n",
        "    \"Have a picnic with friends and share some laughs.\",\n",
        "    \"Explore a new cuisine by dining at an ethnic restaurant.\",\n",
        "    \"Take a yoga class and stretch your body and mind.\",\n",
        "    \"Join a local sports league and enjoy some friendly competition.\",\n",
        "    \"Attend a workshop or lecture on a topic you're interested in.\",\n",
        "    \"Visit an amusement park and ride the roller coasters.\"\n",
        "]"
      ]
    },
    {
      "cell_type": "markdown",
      "metadata": {
        "id": "3miN7DgxXwTb"
      },
      "source": [
        "![image.png](data:image/png;base64,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)"
      ]
    },
    {
      "cell_type": "code",
      "execution_count": null,
      "metadata": {
        "id": "eNE9_LlrXs0z"
      },
      "outputs": [],
      "source": [
        "user_query = \"i am an egypt and i live in egypt\""
      ]
    },
    {
      "cell_type": "code",
      "execution_count": null,
      "metadata": {
        "id": "YrBiE9IfXs00"
      },
      "outputs": [],
      "source": [
        "doc = \"egypt is a country for the egypt and for everyone\""
      ]
    },
    {
      "cell_type": "code",
      "execution_count": null,
      "metadata": {
        "id": "DMARTXkwXs01"
      },
      "outputs": [],
      "source": [
        "from collections import Counter\n",
        "import math"
      ]
    },
    {
      "cell_type": "code",
      "execution_count": null,
      "metadata": {
        "id": "tvxL7WyOXs01"
      },
      "outputs": [],
      "source": [
        "query_tok = user_query.lower().split(\" \")"
      ]
    },
    {
      "cell_type": "code",
      "execution_count": null,
      "metadata": {
        "colab": {
          "base_uri": "https://localhost:8080/"
        },
        "id": "cvhViK-tZwR6",
        "outputId": "ffb49c89-539e-44d8-d51b-9f72170feaa3"
      },
      "outputs": [],
      "source": [
        "query_tok"
      ]
    },
    {
      "cell_type": "code",
      "execution_count": null,
      "metadata": {
        "id": "K23IHJkdXs03"
      },
      "outputs": [],
      "source": [
        "doc_tok = doc.lower().split(\" \")"
      ]
    },
    {
      "cell_type": "code",
      "execution_count": null,
      "metadata": {
        "colab": {
          "base_uri": "https://localhost:8080/"
        },
        "id": "vgE2rqvBXs04",
        "outputId": "3b51f816-7cc8-41ba-9053-198cc0b41b2d"
      },
      "outputs": [],
      "source": [
        "doc_tok"
      ]
    },
    {
      "cell_type": "code",
      "execution_count": null,
      "metadata": {
        "colab": {
          "base_uri": "https://localhost:8080/"
        },
        "id": "TZYYHkx2Z197",
        "outputId": "020799f7-56c3-4480-8008-2398d6b5fc57"
      },
      "outputs": [],
      "source": [
        "query_counter = Counter(query_tok)\n",
        "query_counter"
      ]
    },
    {
      "cell_type": "code",
      "execution_count": null,
      "metadata": {
        "colab": {
          "base_uri": "https://localhost:8080/"
        },
        "id": "4zJEGUjqZ7H3",
        "outputId": "95b88100-3dbf-4241-b453-df27135bc8f7"
      },
      "outputs": [],
      "source": [
        "doc_counter = Counter(doc_tok)\n",
        "doc_counter"
      ]
    },
    {
      "cell_type": "code",
      "execution_count": null,
      "metadata": {
        "id": "REQDV8c_Z9vY"
      },
      "outputs": [],
      "source": [
        "lis = []\n",
        "\n",
        "for i in query_counter.keys() :\n",
        "  lis.append(query_counter[i])"
      ]
    },
    {
      "cell_type": "code",
      "execution_count": null,
      "metadata": {
        "colab": {
          "base_uri": "https://localhost:8080/"
        },
        "id": "wv_yAyxDavyc",
        "outputId": "f9e3b641-c994-4c59-e530-0893e03fb5b5"
      },
      "outputs": [],
      "source": [
        "lis"
      ]
    },
    {
      "cell_type": "code",
      "execution_count": null,
      "metadata": {
        "id": "gxhqXS32czOI"
      },
      "outputs": [],
      "source": [
        "mylist=[]\n",
        "for i in query_counter.keys() & doc_counter.keys():\n",
        "    mylist.append(query_counter[i]*doc_counter[i])"
      ]
    },
    {
      "cell_type": "code",
      "execution_count": null,
      "metadata": {
        "colab": {
          "base_uri": "https://localhost:8080/"
        },
        "id": "0cXPlbOobxcJ",
        "outputId": "986d12f6-164a-49b6-abbd-2248baa81601"
      },
      "outputs": [],
      "source": [
        "mylist"
      ]
    },
    {
      "cell_type": "code",
      "execution_count": null,
      "metadata": {
        "colab": {
          "base_uri": "https://localhost:8080/"
        },
        "id": "jEhQxquBbya-",
        "outputId": "a1930a17-3ec9-4244-e77b-79bd625a9d39"
      },
      "outputs": [],
      "source": [
        "dot_prod = sum(mylist)\n",
        "dot_prod"
      ]
    },
    {
      "cell_type": "code",
      "execution_count": null,
      "metadata": {
        "id": "dXHY5Pnjcr8W"
      },
      "outputs": [],
      "source": [
        "query_magnitude = math.sqrt(sum(query_counter[i] ** 2 for i in query_counter))"
      ]
    },
    {
      "cell_type": "code",
      "execution_count": null,
      "metadata": {
        "colab": {
          "base_uri": "https://localhost:8080/"
        },
        "id": "uU8mLY-qdbQW",
        "outputId": "5c0f8692-88d1-41ee-e09d-d10987e58099"
      },
      "outputs": [],
      "source": [
        "query_magnitude"
      ]
    },
    {
      "cell_type": "code",
      "execution_count": null,
      "metadata": {
        "id": "w74xtSrgdcH4"
      },
      "outputs": [],
      "source": [
        "doc_magnitude = math.sqrt(sum(doc_counter[i] ** 2 for i in doc_counter))"
      ]
    },
    {
      "cell_type": "code",
      "execution_count": null,
      "metadata": {
        "colab": {
          "base_uri": "https://localhost:8080/"
        },
        "id": "KNo30VgCdk5B",
        "outputId": "354917f5-a285-46f1-bb4b-300f13bd28bc"
      },
      "outputs": [],
      "source": [
        "doc_magnitude"
      ]
    },
    {
      "cell_type": "code",
      "execution_count": null,
      "metadata": {
        "colab": {
          "base_uri": "https://localhost:8080/"
        },
        "id": "tDVNc6bidmPd",
        "outputId": "d6444754-3fc9-43fb-fa21-4b5fc7a4361d"
      },
      "outputs": [],
      "source": [
        "similarity = dot_prod / (query_magnitude * doc_magnitude)\n",
        "similarity"
      ]
    },
    {
      "cell_type": "code",
      "execution_count": null,
      "metadata": {
        "id": "Z0ypzijOecFb"
      },
      "outputs": [],
      "source": [
        "user_query=\"is yoga good for health\"\n",
        "document=\"yoga is very good for living healthy lifesytle.\""
      ]
    },
    {
      "cell_type": "code",
      "execution_count": null,
      "metadata": {
        "id": "XiqdmiQXevKw"
      },
      "outputs": [],
      "source": [
        "def cosine_similarity(query , document) :\n",
        "  query_tok = query.lower().split(\" \")\n",
        "  doc_tok = document.lower().split(\" \")\n",
        "\n",
        "\n",
        "  query_counter = Counter(query_tok)\n",
        "  doc_counter = Counter(doc_tok)\n",
        "\n",
        "  dot_product = sum(query_counter[i] * doc_counter[i] for i in query_counter.keys() & doc_counter.keys())\n",
        "\n",
        "  query_magnitude = math.sqrt(sum(query_counter[i] ** 2 for i in query_counter))\n",
        "  doc_magnitude = math.sqrt(sum(doc_counter[i] ** 2 for i in doc_counter))\n",
        "\n",
        "  if True :\n",
        "    similarity = dot_product / (query_magnitude * doc_magnitude)\n",
        "    return similarity\n",
        "  else :\n",
        "    return 0\n"
      ]
    },
    {
      "cell_type": "code",
      "execution_count": null,
      "metadata": {
        "colab": {
          "base_uri": "https://localhost:8080/"
        },
        "id": "YHDN23yEg2Hj",
        "outputId": "e5cc4bfe-0591-4d31-9ff6-d540b6b9da6f"
      },
      "outputs": [],
      "source": [
        "cosine_similarity(user_query , document)"
      ]
    },
    {
      "cell_type": "code",
      "execution_count": null,
      "metadata": {},
      "outputs": [],
      "source": []
    },
    {
      "cell_type": "code",
      "execution_count": null,
      "metadata": {},
      "outputs": [],
      "source": []
    }
  ],
  "metadata": {
    "colab": {
      "provenance": []
    },
    "kernelspec": {
      "display_name": "Python 3",
      "language": "python",
      "name": "python3"
    },
    "language_info": {
      "codemirror_mode": {
        "name": "ipython",
        "version": 3
      },
      "file_extension": ".py",
      "mimetype": "text/x-python",
      "name": "python",
      "nbconvert_exporter": "python",
      "pygments_lexer": "ipython3",
      "version": "3.10.7"
    }
  },
  "nbformat": 4,
  "nbformat_minor": 0
}
